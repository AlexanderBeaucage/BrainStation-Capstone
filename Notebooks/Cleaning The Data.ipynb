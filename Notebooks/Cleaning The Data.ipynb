{
 "cells": [
  {
   "cell_type": "markdown",
   "id": "501fbbe8",
   "metadata": {},
   "source": [
    "# Cleaning The Data"
   ]
  },
  {
   "cell_type": "markdown",
   "id": "3dee9198",
   "metadata": {},
   "source": [
    "Made by: Alexander Beaucage\n",
    "\n",
    "Date: June 23 2023\n",
    "\n",
    "Contact Info: Beaucagealex202@gmail.com"
   ]
  },
  {
   "cell_type": "markdown",
   "id": "50e0935f",
   "metadata": {},
   "source": [
    "The goal of this notebook is to clean up the data set and get it ready for making a recommendation system."
   ]
  },
  {
   "cell_type": "code",
   "execution_count": null,
   "id": "96e24316",
   "metadata": {},
   "outputs": [],
   "source": [
    "# Imports\n",
    "import numpy as np\n",
    "import pandas as pd"
   ]
  },
  {
   "cell_type": "code",
   "execution_count": null,
   "id": "0229eb4c",
   "metadata": {},
   "outputs": [],
   "source": [
    "# Getting the directory of the data to read it into pandas\n",
    "datadir = r\"../csv_files/dataset.csv\"\n",
    "\n",
    "# Reading in the data\n",
    "data = pd.read_csv(datadir)"
   ]
  },
  {
   "cell_type": "code",
   "execution_count": null,
   "id": "38f3b143",
   "metadata": {},
   "outputs": [],
   "source": [
    "# What is with the extra columns????\n",
    "data.head()\n",
    "# I was expecting only four columns but got an extra 117 columns."
   ]
  },
  {
   "cell_type": "code",
   "execution_count": null,
   "id": "a6d510a5",
   "metadata": {},
   "outputs": [],
   "source": [
    "# How many rows and columns?\n",
    "data.shape\n",
    "# 1048575 rows\n",
    "# 121 columns(Should only be 4)"
   ]
  },
  {
   "cell_type": "markdown",
   "id": "b0bd2b58",
   "metadata": {},
   "source": [
    "Some weird stuff going on with the data.\n",
    "\n",
    "First off is the extra columns.\n",
    "\n",
    "Then there is the quotes around `artistname`, `trackname`, and `playlistname`."
   ]
  },
  {
   "cell_type": "markdown",
   "id": "17ffbc21",
   "metadata": {},
   "source": [
    "Here is the plan of action for removing the extra columns\n",
    "- Find and drop the rows with anything in the extra 120 columns\n",
    " 1. Create a boolean mask for the rows with anything in the extra columns.\n",
    " 2. Drop the things in that maks or even make a new data frame.\n",
    " \n",
    " \n",
    "- Then drop the extra 120 columns\n",
    " 1. drop the extra columns"
   ]
  },
  {
   "cell_type": "code",
   "execution_count": null,
   "id": "99942fc0",
   "metadata": {},
   "outputs": [],
   "source": [
    "# Create a boolean mask for if there is any entry in the extra columns\n",
    "# The .all makes sure to combine the booleans into a single row insted of a array of booleans\n",
    "boolmask = data.iloc[:,4:,].isna().all(axis = 1)"
   ]
  },
  {
   "cell_type": "markdown",
   "id": "fe99d163",
   "metadata": {},
   "source": [
    "This seems backwards, but if the value is `True` that means that there is nothing in the extra columns for that row."
   ]
  },
  {
   "cell_type": "code",
   "execution_count": null,
   "id": "4ce86296",
   "metadata": {},
   "outputs": [],
   "source": [
    "# Make sure the boolean mask looks right\n",
    "boolmask"
   ]
  },
  {
   "cell_type": "code",
   "execution_count": null,
   "id": "58305f9f",
   "metadata": {},
   "outputs": [],
   "source": [
    "# Remove the rows with data in the extra columns\n",
    "data.drop(boolmask[boolmask == False].index, inplace= True)"
   ]
  },
  {
   "cell_type": "code",
   "execution_count": null,
   "id": "1ea4d7f5",
   "metadata": {},
   "outputs": [],
   "source": [
    "# Make data equal to the first 4 columns of data.\n",
    "# Effectivly removing the extra columns\n",
    "data = data.iloc[:,0:4]"
   ]
  },
  {
   "cell_type": "code",
   "execution_count": null,
   "id": "6a3f818e",
   "metadata": {},
   "outputs": [],
   "source": [
    "# Take a look at the data to make sure it look right.\n",
    "data.sample(5)"
   ]
  },
  {
   "cell_type": "markdown",
   "id": "3641d383",
   "metadata": {},
   "source": [
    "Now it's time to remove those weird quotes."
   ]
  },
  {
   "cell_type": "code",
   "execution_count": null,
   "id": "e626ba69",
   "metadata": {},
   "outputs": [],
   "source": [
    "# See what the column names actualy are.\n",
    "data.columns"
   ]
  },
  {
   "cell_type": "code",
   "execution_count": null,
   "id": "4b5ea6f4",
   "metadata": {},
   "outputs": [],
   "source": [
    "# Change the column names to use be able to use them later.\n",
    "data.rename(columns = {' \"artistname\"': 'artistname',\n",
    "                       ' \"trackname\"': 'trackname', \n",
    "                       ' \"playlistname\"': 'playlistname'},\n",
    "            inplace= True)"
   ]
  },
  {
   "cell_type": "code",
   "execution_count": null,
   "id": "671b681b",
   "metadata": {},
   "outputs": [],
   "source": [
    "# Take a look to see if it worked\n",
    "data.head()"
   ]
  },
  {
   "cell_type": "code",
   "execution_count": null,
   "id": "99e71579",
   "metadata": {},
   "outputs": [],
   "source": [
    "# Try to check the artistname column\n",
    "data[\"artistname\"]"
   ]
  },
  {
   "cell_type": "markdown",
   "id": "11630584",
   "metadata": {},
   "source": [
    "Now it's time to see if there is nulls in the data"
   ]
  },
  {
   "cell_type": "code",
   "execution_count": null,
   "id": "d19c2c3f",
   "metadata": {},
   "outputs": [],
   "source": [
    "# Get the info on the data\n",
    "data.info()"
   ]
  },
  {
   "cell_type": "markdown",
   "id": "8fd28a18",
   "metadata": {},
   "source": [
    "Looks like there is some nulls in the data."
   ]
  },
  {
   "cell_type": "code",
   "execution_count": null,
   "id": "ccb3cdf2",
   "metadata": {},
   "outputs": [],
   "source": [
    "# Get the number of rows in the data\n",
    "rows = data.shape[0]\n",
    "# Get the number of nulls in the user_id column\n",
    "nulls_user_id = rows - (rows - data[\"user_id\"].isna().sum())\n",
    "# Get the number of nulls in the artistname column\n",
    "nulls_artist_name = rows - (rows - data[\"artistname\"].isna().sum())\n",
    "# Get the number of nulls in the trackname column\n",
    "nulls_track_name = rows - (rows - data[\"trackname\"].isna().sum())\n",
    "# Get the number of nulls in the playlistname column\n",
    "nulls_playlist_name = rows - (rows - data[\"playlistname\"].isna().sum())\n",
    "\n",
    "# Print off some useful info\n",
    "print(f\"There is {nulls_user_id} nulls in user_id \\n\")\n",
    "print(f\"There is {nulls_artist_name} nulls in artistname \\n\")\n",
    "print(f\"There is {nulls_track_name} nulls in trackname \\n\")\n",
    "print(f\"There is {nulls_playlist_name} nulls in playlistname \\n\")\n",
    "print(f\"There is {nulls_user_id+nulls_artist_name+nulls_track_name+nulls_playlist_name} all together\")"
   ]
  },
  {
   "cell_type": "markdown",
   "id": "229e82f3",
   "metadata": {},
   "source": [
    "So, all together there is 2285 nulls in the data. And most of the nulls are in the artist name column. It would be very difficult to impute the data (mostly time consuming). For that reason I will be dropping the rows with nulls in them."
   ]
  },
  {
   "cell_type": "code",
   "execution_count": null,
   "id": "53b65ff2",
   "metadata": {},
   "outputs": [],
   "source": [
    "# Drop all the rows with nulls\n",
    "data.dropna(inplace = True)"
   ]
  },
  {
   "cell_type": "code",
   "execution_count": null,
   "id": "049e60fc",
   "metadata": {},
   "outputs": [],
   "source": [
    "# Get the info on the data\n",
    "data.info()"
   ]
  },
  {
   "cell_type": "markdown",
   "id": "fd728b86",
   "metadata": {},
   "source": [
    "Nice and clean data!"
   ]
  },
  {
   "cell_type": "markdown",
   "id": "8dbcd96b",
   "metadata": {},
   "source": [
    "Now to save the data as a .csv file."
   ]
  },
  {
   "cell_type": "code",
   "execution_count": null,
   "id": "733995b1",
   "metadata": {},
   "outputs": [],
   "source": [
    "# This is the name of the data \n",
    "dataname = r\"cleandata.csv\"\n",
    "\n",
    "# This is the directory of where im going to save the data\n",
    "datadir = r\"../csv_files/\"\n",
    "\n",
    "# Saves the data to the directory specified \n",
    "data.to_csv(datadir+dataname)"
   ]
  }
 ],
 "metadata": {
  "kernelspec": {
   "display_name": "Python 3 (ipykernel)",
   "language": "python",
   "name": "python3"
  },
  "language_info": {
   "codemirror_mode": {
    "name": "ipython",
    "version": 3
   },
   "file_extension": ".py",
   "mimetype": "text/x-python",
   "name": "python",
   "nbconvert_exporter": "python",
   "pygments_lexer": "ipython3",
   "version": "3.9.13"
  }
 },
 "nbformat": 4,
 "nbformat_minor": 5
}
