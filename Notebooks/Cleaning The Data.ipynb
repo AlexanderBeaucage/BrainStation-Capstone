{
 "cells": [
  {
   "cell_type": "markdown",
   "id": "501fbbe8",
   "metadata": {},
   "source": [
    "# Cleaning The Data"
   ]
  },
  {
   "cell_type": "markdown",
   "id": "3dee9198",
   "metadata": {},
   "source": [
    "Made by: Alexander Beaucage\n",
    "\n",
    "Date: June 23 2023\n",
    "\n",
    "Contact Info: Beaucagealex202@gmail.com"
   ]
  },
  {
   "cell_type": "markdown",
   "id": "50e0935f",
   "metadata": {},
   "source": [
    "The goal of this notebook is to clean up the data set and get it ready for making a recommendation system."
   ]
  },
  {
   "cell_type": "code",
   "execution_count": 1,
   "id": "96e24316",
   "metadata": {},
   "outputs": [],
   "source": [
    "# Imports\n",
    "import numpy as np\n",
    "import pandas as pd"
   ]
  },
  {
   "cell_type": "code",
   "execution_count": 2,
   "id": "0229eb4c",
   "metadata": {},
   "outputs": [
    {
     "name": "stderr",
     "output_type": "stream",
     "text": [
      "C:\\Users\\Alexander\\AppData\\Local\\Temp\\ipykernel_18232\\583834019.py:5: DtypeWarning: Columns (4,5,6,7,8,9,10,11,12,13,14,15,16,17,18,19,20,21,22,23,24,25,26,27,28,29,30,31,32,33,34,35,36,37,38,39,40,41,42,43,44,45,46,47,48,49,50,51,52,53,54,55,56,57,58,59,60,61,62,63,64,65,66,67,68,69,70,71,72,73,74,75,76,77,78,79,80,81,82,83,84,85,86,87,88,89,90,91,92,93,94,95,96,97,98,99,100,101,102,103,104,105,106,107,108,109,110,111,112,113,114,115,116,117,118,119,120,121,122,123) have mixed types. Specify dtype option on import or set low_memory=False.\n",
      "  data = pd.read_csv(datadir)\n"
     ]
    }
   ],
   "source": [
    "# Getting the directory of the data to read it into pandas\n",
    "datadir = r\"C:\\Users\\Alexander\\Documents\\Data Science Boot Camp\\Capstone\\Copys\\spotify_dataset.csv\"\n",
    "\n",
    "# Reading in the data\n",
    "data = pd.read_csv(datadir)"
   ]
  },
  {
   "cell_type": "code",
   "execution_count": 3,
   "id": "38f3b143",
   "metadata": {},
   "outputs": [
    {
     "data": {
      "text/html": [
       "<div>\n",
       "<style scoped>\n",
       "    .dataframe tbody tr th:only-of-type {\n",
       "        vertical-align: middle;\n",
       "    }\n",
       "\n",
       "    .dataframe tbody tr th {\n",
       "        vertical-align: top;\n",
       "    }\n",
       "\n",
       "    .dataframe thead th {\n",
       "        text-align: right;\n",
       "    }\n",
       "</style>\n",
       "<table border=\"1\" class=\"dataframe\">\n",
       "  <thead>\n",
       "    <tr style=\"text-align: right;\">\n",
       "      <th></th>\n",
       "      <th>user_id</th>\n",
       "      <th>\"artistname\"</th>\n",
       "      <th>\"trackname\"</th>\n",
       "      <th>\"playlistname\"</th>\n",
       "      <th>Unnamed: 4</th>\n",
       "      <th>Unnamed: 5</th>\n",
       "      <th>Unnamed: 6</th>\n",
       "      <th>Unnamed: 7</th>\n",
       "      <th>Unnamed: 8</th>\n",
       "      <th>Unnamed: 9</th>\n",
       "      <th>...</th>\n",
       "      <th>Unnamed: 114</th>\n",
       "      <th>Unnamed: 115</th>\n",
       "      <th>Unnamed: 116</th>\n",
       "      <th>Unnamed: 117</th>\n",
       "      <th>Unnamed: 118</th>\n",
       "      <th>Unnamed: 119</th>\n",
       "      <th>Unnamed: 120</th>\n",
       "      <th>Unnamed: 121</th>\n",
       "      <th>Unnamed: 122</th>\n",
       "      <th>Unnamed: 123</th>\n",
       "    </tr>\n",
       "  </thead>\n",
       "  <tbody>\n",
       "    <tr>\n",
       "      <th>0</th>\n",
       "      <td>9cc0cfd4d7d7885102480dd99e7a90d6</td>\n",
       "      <td>Elvis Costello</td>\n",
       "      <td>(The Angels Wanna Wear My) Red Shoes</td>\n",
       "      <td>HARD ROCK 2010</td>\n",
       "      <td>NaN</td>\n",
       "      <td>NaN</td>\n",
       "      <td>NaN</td>\n",
       "      <td>NaN</td>\n",
       "      <td>NaN</td>\n",
       "      <td>NaN</td>\n",
       "      <td>...</td>\n",
       "      <td>NaN</td>\n",
       "      <td>NaN</td>\n",
       "      <td>NaN</td>\n",
       "      <td>NaN</td>\n",
       "      <td>NaN</td>\n",
       "      <td>NaN</td>\n",
       "      <td>NaN</td>\n",
       "      <td>NaN</td>\n",
       "      <td>NaN</td>\n",
       "      <td>NaN</td>\n",
       "    </tr>\n",
       "    <tr>\n",
       "      <th>1</th>\n",
       "      <td>9cc0cfd4d7d7885102480dd99e7a90d6</td>\n",
       "      <td>Elvis Costello &amp; The Attractions</td>\n",
       "      <td>(What's So Funny 'Bout) Peace, Love And Unders...</td>\n",
       "      <td>HARD ROCK 2010</td>\n",
       "      <td>NaN</td>\n",
       "      <td>NaN</td>\n",
       "      <td>NaN</td>\n",
       "      <td>NaN</td>\n",
       "      <td>NaN</td>\n",
       "      <td>NaN</td>\n",
       "      <td>...</td>\n",
       "      <td>NaN</td>\n",
       "      <td>NaN</td>\n",
       "      <td>NaN</td>\n",
       "      <td>NaN</td>\n",
       "      <td>NaN</td>\n",
       "      <td>NaN</td>\n",
       "      <td>NaN</td>\n",
       "      <td>NaN</td>\n",
       "      <td>NaN</td>\n",
       "      <td>NaN</td>\n",
       "    </tr>\n",
       "    <tr>\n",
       "      <th>2</th>\n",
       "      <td>9cc0cfd4d7d7885102480dd99e7a90d6</td>\n",
       "      <td>Tiffany Page</td>\n",
       "      <td>7 Years Too Late</td>\n",
       "      <td>HARD ROCK 2010</td>\n",
       "      <td>NaN</td>\n",
       "      <td>NaN</td>\n",
       "      <td>NaN</td>\n",
       "      <td>NaN</td>\n",
       "      <td>NaN</td>\n",
       "      <td>NaN</td>\n",
       "      <td>...</td>\n",
       "      <td>NaN</td>\n",
       "      <td>NaN</td>\n",
       "      <td>NaN</td>\n",
       "      <td>NaN</td>\n",
       "      <td>NaN</td>\n",
       "      <td>NaN</td>\n",
       "      <td>NaN</td>\n",
       "      <td>NaN</td>\n",
       "      <td>NaN</td>\n",
       "      <td>NaN</td>\n",
       "    </tr>\n",
       "    <tr>\n",
       "      <th>3</th>\n",
       "      <td>9cc0cfd4d7d7885102480dd99e7a90d6</td>\n",
       "      <td>Elvis Costello &amp; The Attractions</td>\n",
       "      <td>Accidents Will Happen</td>\n",
       "      <td>HARD ROCK 2010</td>\n",
       "      <td>NaN</td>\n",
       "      <td>NaN</td>\n",
       "      <td>NaN</td>\n",
       "      <td>NaN</td>\n",
       "      <td>NaN</td>\n",
       "      <td>NaN</td>\n",
       "      <td>...</td>\n",
       "      <td>NaN</td>\n",
       "      <td>NaN</td>\n",
       "      <td>NaN</td>\n",
       "      <td>NaN</td>\n",
       "      <td>NaN</td>\n",
       "      <td>NaN</td>\n",
       "      <td>NaN</td>\n",
       "      <td>NaN</td>\n",
       "      <td>NaN</td>\n",
       "      <td>NaN</td>\n",
       "    </tr>\n",
       "    <tr>\n",
       "      <th>4</th>\n",
       "      <td>9cc0cfd4d7d7885102480dd99e7a90d6</td>\n",
       "      <td>Elvis Costello</td>\n",
       "      <td>Alison</td>\n",
       "      <td>HARD ROCK 2010</td>\n",
       "      <td>NaN</td>\n",
       "      <td>NaN</td>\n",
       "      <td>NaN</td>\n",
       "      <td>NaN</td>\n",
       "      <td>NaN</td>\n",
       "      <td>NaN</td>\n",
       "      <td>...</td>\n",
       "      <td>NaN</td>\n",
       "      <td>NaN</td>\n",
       "      <td>NaN</td>\n",
       "      <td>NaN</td>\n",
       "      <td>NaN</td>\n",
       "      <td>NaN</td>\n",
       "      <td>NaN</td>\n",
       "      <td>NaN</td>\n",
       "      <td>NaN</td>\n",
       "      <td>NaN</td>\n",
       "    </tr>\n",
       "  </tbody>\n",
       "</table>\n",
       "<p>5 rows × 124 columns</p>\n",
       "</div>"
      ],
      "text/plain": [
       "                            user_id                      \"artistname\"  \\\n",
       "0  9cc0cfd4d7d7885102480dd99e7a90d6                    Elvis Costello   \n",
       "1  9cc0cfd4d7d7885102480dd99e7a90d6  Elvis Costello & The Attractions   \n",
       "2  9cc0cfd4d7d7885102480dd99e7a90d6                      Tiffany Page   \n",
       "3  9cc0cfd4d7d7885102480dd99e7a90d6  Elvis Costello & The Attractions   \n",
       "4  9cc0cfd4d7d7885102480dd99e7a90d6                    Elvis Costello   \n",
       "\n",
       "                                         \"trackname\"  \"playlistname\"  \\\n",
       "0               (The Angels Wanna Wear My) Red Shoes  HARD ROCK 2010   \n",
       "1  (What's So Funny 'Bout) Peace, Love And Unders...  HARD ROCK 2010   \n",
       "2                                   7 Years Too Late  HARD ROCK 2010   \n",
       "3                              Accidents Will Happen  HARD ROCK 2010   \n",
       "4                                             Alison  HARD ROCK 2010   \n",
       "\n",
       "  Unnamed: 4 Unnamed: 5 Unnamed: 6 Unnamed: 7 Unnamed: 8 Unnamed: 9  ...  \\\n",
       "0        NaN        NaN        NaN        NaN        NaN        NaN  ...   \n",
       "1        NaN        NaN        NaN        NaN        NaN        NaN  ...   \n",
       "2        NaN        NaN        NaN        NaN        NaN        NaN  ...   \n",
       "3        NaN        NaN        NaN        NaN        NaN        NaN  ...   \n",
       "4        NaN        NaN        NaN        NaN        NaN        NaN  ...   \n",
       "\n",
       "  Unnamed: 114 Unnamed: 115 Unnamed: 116 Unnamed: 117 Unnamed: 118  \\\n",
       "0          NaN          NaN          NaN          NaN          NaN   \n",
       "1          NaN          NaN          NaN          NaN          NaN   \n",
       "2          NaN          NaN          NaN          NaN          NaN   \n",
       "3          NaN          NaN          NaN          NaN          NaN   \n",
       "4          NaN          NaN          NaN          NaN          NaN   \n",
       "\n",
       "  Unnamed: 119 Unnamed: 120 Unnamed: 121 Unnamed: 122 Unnamed: 123  \n",
       "0          NaN          NaN          NaN          NaN          NaN  \n",
       "1          NaN          NaN          NaN          NaN          NaN  \n",
       "2          NaN          NaN          NaN          NaN          NaN  \n",
       "3          NaN          NaN          NaN          NaN          NaN  \n",
       "4          NaN          NaN          NaN          NaN          NaN  \n",
       "\n",
       "[5 rows x 124 columns]"
      ]
     },
     "execution_count": 3,
     "metadata": {},
     "output_type": "execute_result"
    }
   ],
   "source": [
    "# What is with the extra columns????\n",
    "data.head()\n",
    "# I was expecting only four columns but got an extra 120 columns."
   ]
  },
  {
   "cell_type": "code",
   "execution_count": 4,
   "id": "a6d510a5",
   "metadata": {},
   "outputs": [
    {
     "data": {
      "text/plain": [
       "(1048575, 124)"
      ]
     },
     "execution_count": 4,
     "metadata": {},
     "output_type": "execute_result"
    }
   ],
   "source": [
    "# How many rows and columns?\n",
    "data.shape\n",
    "# 1048575 rows\n",
    "# 124 columns(Should only be 4)"
   ]
  },
  {
   "cell_type": "markdown",
   "id": "b0bd2b58",
   "metadata": {},
   "source": [
    "Some weird stuff going on with the data.\n",
    "\n",
    "First off is the extra columns.\n",
    "\n",
    "Then there is the quotes around `artistname`, `trackname`, and `playlistname`."
   ]
  },
  {
   "cell_type": "markdown",
   "id": "17ffbc21",
   "metadata": {},
   "source": [
    "Here is the plan of action for removing the extra columns\n",
    "- Find and drop the rows with anything in the extra 120 columns\n",
    " 1. Create a boolean mask for the rows with anything in the extra columns.\n",
    " 2. Drop the things in that maks or even make a new data frame.\n",
    " \n",
    " \n",
    "- Then drop the extra 120 columns\n",
    " 1. drop the extra columns"
   ]
  },
  {
   "cell_type": "code",
   "execution_count": 5,
   "id": "99942fc0",
   "metadata": {},
   "outputs": [],
   "source": [
    "# Create a boolean mask for if there is any entry in the extra columns\n",
    "# The .all makes sure to combine the booleans into a single row insted of a array of booleans\n",
    "boolmask = data.iloc[:,4:,].isna().all(axis = 1)"
   ]
  },
  {
   "cell_type": "markdown",
   "id": "fe99d163",
   "metadata": {},
   "source": [
    "This seems backwards, but if the value is `True` that means that there is nothing in the extra columns for that row."
   ]
  },
  {
   "cell_type": "code",
   "execution_count": 6,
   "id": "4ce86296",
   "metadata": {},
   "outputs": [
    {
     "data": {
      "text/plain": [
       "0          True\n",
       "1          True\n",
       "2          True\n",
       "3          True\n",
       "4          True\n",
       "           ... \n",
       "1048570    True\n",
       "1048571    True\n",
       "1048572    True\n",
       "1048573    True\n",
       "1048574    True\n",
       "Length: 1048575, dtype: bool"
      ]
     },
     "execution_count": 6,
     "metadata": {},
     "output_type": "execute_result"
    }
   ],
   "source": [
    "# Make sure the boolean mask looks right\n",
    "boolmask"
   ]
  },
  {
   "cell_type": "code",
   "execution_count": 7,
   "id": "58305f9f",
   "metadata": {},
   "outputs": [],
   "source": [
    "# Remove the rows with data in the extra columns\n",
    "data.drop(boolmask[boolmask == False].index, inplace= True)"
   ]
  },
  {
   "cell_type": "code",
   "execution_count": 8,
   "id": "1ea4d7f5",
   "metadata": {},
   "outputs": [],
   "source": [
    "# Make data equal to the first 4 columns of data.\n",
    "# Effectivly removing the extra columns\n",
    "data = data.iloc[:,0:4]"
   ]
  },
  {
   "cell_type": "code",
   "execution_count": 9,
   "id": "6a3f818e",
   "metadata": {},
   "outputs": [
    {
     "data": {
      "text/html": [
       "<div>\n",
       "<style scoped>\n",
       "    .dataframe tbody tr th:only-of-type {\n",
       "        vertical-align: middle;\n",
       "    }\n",
       "\n",
       "    .dataframe tbody tr th {\n",
       "        vertical-align: top;\n",
       "    }\n",
       "\n",
       "    .dataframe thead th {\n",
       "        text-align: right;\n",
       "    }\n",
       "</style>\n",
       "<table border=\"1\" class=\"dataframe\">\n",
       "  <thead>\n",
       "    <tr style=\"text-align: right;\">\n",
       "      <th></th>\n",
       "      <th>user_id</th>\n",
       "      <th>\"artistname\"</th>\n",
       "      <th>\"trackname\"</th>\n",
       "      <th>\"playlistname\"</th>\n",
       "    </tr>\n",
       "  </thead>\n",
       "  <tbody>\n",
       "    <tr>\n",
       "      <th>260016</th>\n",
       "      <td>552e2c862b95207bd5ee72f9de9820c6</td>\n",
       "      <td>Public Enemy</td>\n",
       "      <td>Fight The Power</td>\n",
       "      <td>THE ILLEST 90s MIX EVER</td>\n",
       "    </tr>\n",
       "    <tr>\n",
       "      <th>861853</th>\n",
       "      <td>d7d48e1d55970b769c04ce63ee2005b5</td>\n",
       "      <td>Soundflowers</td>\n",
       "      <td>Secret Wonder</td>\n",
       "      <td>Intelligent Music Favorites Vo</td>\n",
       "    </tr>\n",
       "    <tr>\n",
       "      <th>488785</th>\n",
       "      <td>3dad1058688d39a8ae96710e2501b26a</td>\n",
       "      <td>Jamie xx</td>\n",
       "      <td>Loud Places</td>\n",
       "      <td>Office Beats</td>\n",
       "    </tr>\n",
       "    <tr>\n",
       "      <th>1042500</th>\n",
       "      <td>ab4d3778e65e1342be1ac754db166c8a</td>\n",
       "      <td>Finch</td>\n",
       "      <td>Post Script</td>\n",
       "      <td>E.E.P.</td>\n",
       "    </tr>\n",
       "    <tr>\n",
       "      <th>533446</th>\n",
       "      <td>1435064e3d682b77235ef67451be8474</td>\n",
       "      <td>KONGOS</td>\n",
       "      <td>Come With Me Now</td>\n",
       "      <td>summer 2k14</td>\n",
       "    </tr>\n",
       "  </tbody>\n",
       "</table>\n",
       "</div>"
      ],
      "text/plain": [
       "                                  user_id  \"artistname\"       \"trackname\"  \\\n",
       "260016   552e2c862b95207bd5ee72f9de9820c6  Public Enemy   Fight The Power   \n",
       "861853   d7d48e1d55970b769c04ce63ee2005b5  Soundflowers     Secret Wonder   \n",
       "488785   3dad1058688d39a8ae96710e2501b26a      Jamie xx       Loud Places   \n",
       "1042500  ab4d3778e65e1342be1ac754db166c8a         Finch       Post Script   \n",
       "533446   1435064e3d682b77235ef67451be8474        KONGOS  Come With Me Now   \n",
       "\n",
       "                         \"playlistname\"  \n",
       "260016          THE ILLEST 90s MIX EVER  \n",
       "861853   Intelligent Music Favorites Vo  \n",
       "488785                     Office Beats  \n",
       "1042500                          E.E.P.  \n",
       "533446                      summer 2k14  "
      ]
     },
     "execution_count": 9,
     "metadata": {},
     "output_type": "execute_result"
    }
   ],
   "source": [
    "# Take a look at the data to make sure it look right.\n",
    "data.sample(5)"
   ]
  },
  {
   "cell_type": "markdown",
   "id": "3641d383",
   "metadata": {},
   "source": [
    "Now it's time to remove those weird quotes."
   ]
  },
  {
   "cell_type": "code",
   "execution_count": 10,
   "id": "e626ba69",
   "metadata": {},
   "outputs": [
    {
     "data": {
      "text/plain": [
       "Index(['user_id', ' \"artistname\"', ' \"trackname\"', ' \"playlistname\"'], dtype='object')"
      ]
     },
     "execution_count": 10,
     "metadata": {},
     "output_type": "execute_result"
    }
   ],
   "source": [
    "# See what the column names actualy are.\n",
    "data.columns"
   ]
  },
  {
   "cell_type": "code",
   "execution_count": 11,
   "id": "4b5ea6f4",
   "metadata": {},
   "outputs": [],
   "source": [
    "# Change the column names to use be able to use them later.\n",
    "data.rename(columns = {' \"artistname\"': 'artistname',\n",
    "                       ' \"trackname\"': 'trackname', \n",
    "                       ' \"playlistname\"': 'playlistname'},\n",
    "            inplace= True)"
   ]
  },
  {
   "cell_type": "code",
   "execution_count": 12,
   "id": "671b681b",
   "metadata": {},
   "outputs": [
    {
     "data": {
      "text/html": [
       "<div>\n",
       "<style scoped>\n",
       "    .dataframe tbody tr th:only-of-type {\n",
       "        vertical-align: middle;\n",
       "    }\n",
       "\n",
       "    .dataframe tbody tr th {\n",
       "        vertical-align: top;\n",
       "    }\n",
       "\n",
       "    .dataframe thead th {\n",
       "        text-align: right;\n",
       "    }\n",
       "</style>\n",
       "<table border=\"1\" class=\"dataframe\">\n",
       "  <thead>\n",
       "    <tr style=\"text-align: right;\">\n",
       "      <th></th>\n",
       "      <th>user_id</th>\n",
       "      <th>artistname</th>\n",
       "      <th>trackname</th>\n",
       "      <th>playlistname</th>\n",
       "    </tr>\n",
       "  </thead>\n",
       "  <tbody>\n",
       "    <tr>\n",
       "      <th>0</th>\n",
       "      <td>9cc0cfd4d7d7885102480dd99e7a90d6</td>\n",
       "      <td>Elvis Costello</td>\n",
       "      <td>(The Angels Wanna Wear My) Red Shoes</td>\n",
       "      <td>HARD ROCK 2010</td>\n",
       "    </tr>\n",
       "    <tr>\n",
       "      <th>1</th>\n",
       "      <td>9cc0cfd4d7d7885102480dd99e7a90d6</td>\n",
       "      <td>Elvis Costello &amp; The Attractions</td>\n",
       "      <td>(What's So Funny 'Bout) Peace, Love And Unders...</td>\n",
       "      <td>HARD ROCK 2010</td>\n",
       "    </tr>\n",
       "    <tr>\n",
       "      <th>2</th>\n",
       "      <td>9cc0cfd4d7d7885102480dd99e7a90d6</td>\n",
       "      <td>Tiffany Page</td>\n",
       "      <td>7 Years Too Late</td>\n",
       "      <td>HARD ROCK 2010</td>\n",
       "    </tr>\n",
       "    <tr>\n",
       "      <th>3</th>\n",
       "      <td>9cc0cfd4d7d7885102480dd99e7a90d6</td>\n",
       "      <td>Elvis Costello &amp; The Attractions</td>\n",
       "      <td>Accidents Will Happen</td>\n",
       "      <td>HARD ROCK 2010</td>\n",
       "    </tr>\n",
       "    <tr>\n",
       "      <th>4</th>\n",
       "      <td>9cc0cfd4d7d7885102480dd99e7a90d6</td>\n",
       "      <td>Elvis Costello</td>\n",
       "      <td>Alison</td>\n",
       "      <td>HARD ROCK 2010</td>\n",
       "    </tr>\n",
       "  </tbody>\n",
       "</table>\n",
       "</div>"
      ],
      "text/plain": [
       "                            user_id                        artistname  \\\n",
       "0  9cc0cfd4d7d7885102480dd99e7a90d6                    Elvis Costello   \n",
       "1  9cc0cfd4d7d7885102480dd99e7a90d6  Elvis Costello & The Attractions   \n",
       "2  9cc0cfd4d7d7885102480dd99e7a90d6                      Tiffany Page   \n",
       "3  9cc0cfd4d7d7885102480dd99e7a90d6  Elvis Costello & The Attractions   \n",
       "4  9cc0cfd4d7d7885102480dd99e7a90d6                    Elvis Costello   \n",
       "\n",
       "                                           trackname    playlistname  \n",
       "0               (The Angels Wanna Wear My) Red Shoes  HARD ROCK 2010  \n",
       "1  (What's So Funny 'Bout) Peace, Love And Unders...  HARD ROCK 2010  \n",
       "2                                   7 Years Too Late  HARD ROCK 2010  \n",
       "3                              Accidents Will Happen  HARD ROCK 2010  \n",
       "4                                             Alison  HARD ROCK 2010  "
      ]
     },
     "execution_count": 12,
     "metadata": {},
     "output_type": "execute_result"
    }
   ],
   "source": [
    "# Take a look to see if it worked\n",
    "data.head()"
   ]
  },
  {
   "cell_type": "code",
   "execution_count": 13,
   "id": "99e71579",
   "metadata": {},
   "outputs": [
    {
     "data": {
      "text/plain": [
       "0                            Elvis Costello\n",
       "1          Elvis Costello & The Attractions\n",
       "2                              Tiffany Page\n",
       "3          Elvis Costello & The Attractions\n",
       "4                            Elvis Costello\n",
       "                         ...               \n",
       "1048570                            Dr. John\n",
       "1048571                      Punch Brothers\n",
       "1048572                      Chicago Farmer\n",
       "1048573                 Henrik Freischlader\n",
       "1048574                      Curtis Harding\n",
       "Name: artistname, Length: 1047882, dtype: object"
      ]
     },
     "execution_count": 13,
     "metadata": {},
     "output_type": "execute_result"
    }
   ],
   "source": [
    "# Try to check the artistname column\n",
    "data[\"artistname\"]"
   ]
  },
  {
   "cell_type": "markdown",
   "id": "11630584",
   "metadata": {},
   "source": [
    "Now it's time to see if there is nulls in the data"
   ]
  },
  {
   "cell_type": "code",
   "execution_count": 14,
   "id": "d19c2c3f",
   "metadata": {},
   "outputs": [
    {
     "name": "stdout",
     "output_type": "stream",
     "text": [
      "<class 'pandas.core.frame.DataFrame'>\n",
      "Int64Index: 1047882 entries, 0 to 1048574\n",
      "Data columns (total 4 columns):\n",
      " #   Column        Non-Null Count    Dtype \n",
      "---  ------        --------------    ----- \n",
      " 0   user_id       1047881 non-null  object\n",
      " 1   artistname    1045679 non-null  object\n",
      " 2   trackname     1047872 non-null  object\n",
      " 3   playlistname  1047807 non-null  object\n",
      "dtypes: object(4)\n",
      "memory usage: 40.0+ MB\n"
     ]
    }
   ],
   "source": [
    "# Get the info on the data\n",
    "data.info()"
   ]
  },
  {
   "cell_type": "code",
   "execution_count": 15,
   "id": "ccb3cdf2",
   "metadata": {},
   "outputs": [
    {
     "name": "stdout",
     "output_type": "stream",
     "text": [
      "There is 1 nulls in user_id \n",
      "\n",
      "There is 2203 nulls in artistname \n",
      "\n",
      "There is 10 nulls in trackname \n",
      "\n",
      "There is 75 nulls in playlistname \n",
      "\n",
      "There is 2289 all together\n"
     ]
    }
   ],
   "source": [
    "# Get the number of rows in the data\n",
    "rows = data.shape[0]\n",
    "# Get the number of nulls in the user_id column\n",
    "nulls_user_id = rows - (rows - data[\"user_id\"].isna().sum())\n",
    "# Get the number of nulls in the artistname column\n",
    "nulls_artist_name = rows - (rows - data[\"artistname\"].isna().sum())\n",
    "# Get the number of nulls in the trackname column\n",
    "nulls_track_name = rows - (rows - data[\"trackname\"].isna().sum())\n",
    "# Get the number of nulls in the playlistname column\n",
    "nulls_playlist_name = rows - (rows - data[\"playlistname\"].isna().sum())\n",
    "\n",
    "# Print off some useful info\n",
    "print(f\"There is {nulls_user_id} nulls in user_id \\n\")\n",
    "print(f\"There is {nulls_artist_name} nulls in artistname \\n\")\n",
    "print(f\"There is {nulls_track_name} nulls in trackname \\n\")\n",
    "print(f\"There is {nulls_playlist_name} nulls in playlistname \\n\")\n",
    "print(f\"There is {nulls_user_id+nulls_artist_name+nulls_track_name+nulls_playlist_name} all together\")"
   ]
  },
  {
   "cell_type": "markdown",
   "id": "229e82f3",
   "metadata": {},
   "source": [
    "So, all together there is 2289 nulls in the data. And most of the nulls are in the artist name column. It would be very difficult to impute the data (mostly time consuming). For that reason I will be dropping the rows with nulls in them."
   ]
  },
  {
   "cell_type": "code",
   "execution_count": 16,
   "id": "53b65ff2",
   "metadata": {},
   "outputs": [],
   "source": [
    "# Drop all the rows with nulls\n",
    "data.dropna(inplace = True)"
   ]
  },
  {
   "cell_type": "code",
   "execution_count": 17,
   "id": "049e60fc",
   "metadata": {},
   "outputs": [
    {
     "name": "stdout",
     "output_type": "stream",
     "text": [
      "<class 'pandas.core.frame.DataFrame'>\n",
      "Int64Index: 1045599 entries, 0 to 1048574\n",
      "Data columns (total 4 columns):\n",
      " #   Column        Non-Null Count    Dtype \n",
      "---  ------        --------------    ----- \n",
      " 0   user_id       1045599 non-null  object\n",
      " 1   artistname    1045599 non-null  object\n",
      " 2   trackname     1045599 non-null  object\n",
      " 3   playlistname  1045599 non-null  object\n",
      "dtypes: object(4)\n",
      "memory usage: 39.9+ MB\n"
     ]
    }
   ],
   "source": [
    "# Get the info on the data\n",
    "data.info()"
   ]
  },
  {
   "cell_type": "markdown",
   "id": "fd728b86",
   "metadata": {},
   "source": [
    "Nice and clean data!"
   ]
  },
  {
   "cell_type": "markdown",
   "id": "8dbcd96b",
   "metadata": {},
   "source": [
    "Now to save the data as a .csv file."
   ]
  },
  {
   "cell_type": "code",
   "execution_count": 18,
   "id": "733995b1",
   "metadata": {},
   "outputs": [],
   "source": [
    "# This is the name of the data \n",
    "dataname = r\"\\cleandata.csv\"\n",
    "\n",
    "# This is the directory of where im going to save the data\n",
    "datadir = r\"C:\\Users\\Alexander\\Documents\\Data Science Boot Camp\\Capstone\\Copys\\Clean data\"\n",
    "\n",
    "# Saves the data to the directory specified \n",
    "data.to_csv(datadir+dataname)"
   ]
  }
 ],
 "metadata": {
  "kernelspec": {
   "display_name": "Python 3 (ipykernel)",
   "language": "python",
   "name": "python3"
  },
  "language_info": {
   "codemirror_mode": {
    "name": "ipython",
    "version": 3
   },
   "file_extension": ".py",
   "mimetype": "text/x-python",
   "name": "python",
   "nbconvert_exporter": "python",
   "pygments_lexer": "ipython3",
   "version": "3.9.13"
  }
 },
 "nbformat": 4,
 "nbformat_minor": 5
}
