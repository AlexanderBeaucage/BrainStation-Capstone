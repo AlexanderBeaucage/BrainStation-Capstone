{
 "cells": [
  {
   "cell_type": "markdown",
   "id": "3c0bfcef",
   "metadata": {},
   "source": [
    "# Visualizations and EDA"
   ]
  },
  {
   "cell_type": "markdown",
   "id": "6136fffe",
   "metadata": {},
   "source": [
    "Made by: Alexander Beaucage\n",
    "\n",
    "Date: June 23 2023\n",
    "\n",
    "Contact Info: Beaucagealex202@gmail.com"
   ]
  },
  {
   "cell_type": "markdown",
   "id": "d9d301bb",
   "metadata": {},
   "source": [
    "The goal of this notebook is to explore and visualize the data."
   ]
  },
  {
   "cell_type": "code",
   "execution_count": null,
   "id": "601c4ab1",
   "metadata": {},
   "outputs": [],
   "source": [
    "# Imports\n",
    "import numpy as np\n",
    "import pandas as pd\n",
    "import matplotlib.pyplot as plt"
   ]
  },
  {
   "cell_type": "code",
   "execution_count": null,
   "id": "03ca08e6",
   "metadata": {},
   "outputs": [],
   "source": [
    "# Get a colour that is not to offensive\n",
    "colour = \"#d71e34\""
   ]
  },
  {
   "cell_type": "code",
   "execution_count": null,
   "id": "33d1d360",
   "metadata": {},
   "outputs": [],
   "source": [
    "# Get the directory for the data\n",
    "datadir = r\"../csv_files/cleandata.csv\"\n",
    "# Load in the data\n",
    "data = pd.read_csv(datadir, index_col = 0)# Use index column to use the index on the data"
   ]
  },
  {
   "cell_type": "code",
   "execution_count": null,
   "id": "5581386f",
   "metadata": {},
   "outputs": [],
   "source": [
    "# Take a look at the data\n",
    "data.head()"
   ]
  },
  {
   "cell_type": "code",
   "execution_count": null,
   "id": "96f4352d",
   "metadata": {},
   "outputs": [],
   "source": [
    "# Take a look at the info of the data\n",
    "data.info()"
   ]
  },
  {
   "cell_type": "markdown",
   "id": "d1c33dcf",
   "metadata": {},
   "source": [
    "What are the top 10 artists by number of songs in the data set?"
   ]
  },
  {
   "cell_type": "code",
   "execution_count": null,
   "id": "b2e108ca",
   "metadata": {
    "scrolled": false
   },
   "outputs": [],
   "source": [
    "# Get the top 10 artists by the number of songs in the data set\n",
    "graph = data[\"artistname\"].value_counts()[0:10].sort_values(ascending = True)\n",
    "\n",
    "# Set up the graph\n",
    "plt.figure()\n",
    "\n",
    "# Plot the data\n",
    "plt.barh(y = graph.index, width = graph.values, color = colour)\n",
    "\n",
    "plt.xlabel(\"Number Of Appearance In Data Set\")\n",
    "plt.ylabel(\"Artist\")\n",
    "plt.title(\"Top 10 Artists By Number Of Appearances In Data Set\")\n",
    "# Show the graph\n",
    "plt.show()"
   ]
  },
  {
   "cell_type": "markdown",
   "id": "8ba9b127",
   "metadata": {},
   "source": [
    "What are the top 10 songs by appearances in the data set?"
   ]
  },
  {
   "cell_type": "code",
   "execution_count": null,
   "id": "e5aa4760",
   "metadata": {},
   "outputs": [],
   "source": [
    "# Get the top 10 songs in the data set\n",
    "graph = data[[\"trackname\",\"artistname\"]].value_counts()[0:10].sort_values(ascending = True)"
   ]
  },
  {
   "cell_type": "code",
   "execution_count": null,
   "id": "31e49344",
   "metadata": {},
   "outputs": [],
   "source": [
    "# Getting the combonation of artist and song name into a list insted of multi index\n",
    "# Create an empty list for later\n",
    "yvalue = []\n",
    "# Iterate through the indexs...\n",
    "for item in graph.index:\n",
    "    # Assign the first value of the multi index to first(This should be the song name)\n",
    "    first = item[0]\n",
    "    # Assign the second value of the multi index to second(This should be the artist name)\n",
    "    second = item[1]\n",
    "    # Combine first and second with a \"by\" inbetween\n",
    "    wombocombo = first + \" by \" + second\n",
    "    # Add the combonation to yvalue...\n",
    "    yvalue.append(wombocombo)\n",
    "print(yvalue)"
   ]
  },
  {
   "cell_type": "code",
   "execution_count": null,
   "id": "8e855f81",
   "metadata": {},
   "outputs": [],
   "source": [
    "# Set up the graph\n",
    "plt.figure(figsize=(5,6))\n",
    "\n",
    "# Plot the data\n",
    "plt.barh(y = yvalue, width = graph.values, color = colour)\n",
    "\n",
    "# Make some labels\n",
    "plt.xlabel(\"Count Of Songs In Data Set\")\n",
    "plt.ylabel(\"Song By Artist\")\n",
    "plt.title(\"Top 10 Songs By Number Of Appearances In Data Set\")\n",
    "\n",
    "# Show the graph\n",
    "plt.show()"
   ]
  },
  {
   "cell_type": "markdown",
   "id": "9cf5248e",
   "metadata": {},
   "source": [
    "What are the top 10 playlist names?"
   ]
  },
  {
   "cell_type": "code",
   "execution_count": null,
   "id": "28554fa8",
   "metadata": {},
   "outputs": [],
   "source": [
    "# Get the top 10 artists by the number of songs in the data set\n",
    "graph = data[\"playlistname\"].value_counts()[0:10].sort_values(ascending = True)\n",
    "\n",
    "# Set up the graph\n",
    "plt.figure()\n",
    "\n",
    "# Plot the data\n",
    "plt.barh(y = graph.index, width = graph.values, color = colour)\n",
    "\n",
    "plt.xlabel(\"Number Of Appearance In Data Set\")\n",
    "plt.ylabel(\"Playlist Name\")\n",
    "plt.title(\"Top 10 Playlist Names\")\n",
    "# Show the graph\n",
    "plt.show()"
   ]
  },
  {
   "cell_type": "code",
   "execution_count": null,
   "id": "273f4633",
   "metadata": {},
   "outputs": [],
   "source": [
    "graph = data[[\"playlistname\",\"user_id\"]].value_counts().values\n",
    "\n",
    "plt.figure()\n",
    "\n",
    "plt.hist(x = graph, bins = 50)\n",
    "\n",
    "plt.show()"
   ]
  },
  {
   "cell_type": "code",
   "execution_count": null,
   "id": "409d633d",
   "metadata": {},
   "outputs": [],
   "source": [
    "graph = np.where(graph <= 25, \"short\", np.where(graph <= 100 ,\"medium\",\"long\"))"
   ]
  },
  {
   "cell_type": "code",
   "execution_count": null,
   "id": "4da33619",
   "metadata": {},
   "outputs": [],
   "source": [
    "graph = pd.DataFrame(graph).value_counts()"
   ]
  },
  {
   "cell_type": "code",
   "execution_count": null,
   "id": "779fa2ae",
   "metadata": {},
   "outputs": [],
   "source": [
    "plt.figure()\n",
    "\n",
    "plt.bar(x = [\"short\",\"med\",\"long\"], height = graph.values)\n",
    "\n",
    "plt.show()"
   ]
  },
  {
   "cell_type": "code",
   "execution_count": null,
   "id": "66f3ff21",
   "metadata": {},
   "outputs": [],
   "source": []
  }
 ],
 "metadata": {
  "kernelspec": {
   "display_name": "Python 3 (ipykernel)",
   "language": "python",
   "name": "python3"
  },
  "language_info": {
   "codemirror_mode": {
    "name": "ipython",
    "version": 3
   },
   "file_extension": ".py",
   "mimetype": "text/x-python",
   "name": "python",
   "nbconvert_exporter": "python",
   "pygments_lexer": "ipython3",
   "version": "3.9.13"
  }
 },
 "nbformat": 4,
 "nbformat_minor": 5
}
