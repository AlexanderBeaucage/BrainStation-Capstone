{
 "cells": [
  {
   "cell_type": "markdown",
   "id": "17a77418",
   "metadata": {},
   "source": [
    "# Making The Recommendation System"
   ]
  },
  {
   "cell_type": "markdown",
   "id": "53cf6740",
   "metadata": {},
   "source": [
    "Made by: Alexander Beaucage\n",
    "\n",
    "Date: June 23 2023\n",
    "\n",
    "Contact Info: Beaucagealex202@gmail.com"
   ]
  },
  {
   "cell_type": "markdown",
   "id": "618951d2",
   "metadata": {},
   "source": [
    "The goal of this notebook is to get a recommender running. To do this I will be using a association rules table, this will get songs that co-occur frequently."
   ]
  },
  {
   "cell_type": "code",
   "execution_count": null,
   "id": "3b15bc66",
   "metadata": {},
   "outputs": [],
   "source": [
    "# Import the librarys I need\n",
    "import numpy as np\n",
    "import pandas as pd\n",
    "import matplotlib.pyplot as plt\n",
    "from mlxtend.preprocessing import TransactionEncoder\n",
    "from mlxtend.frequent_patterns import apriori\n",
    "from mlxtend.frequent_patterns import association_rules"
   ]
  },
  {
   "cell_type": "code",
   "execution_count": null,
   "id": "fc6b4ad8",
   "metadata": {},
   "outputs": [],
   "source": [
    "# Get the directory for the data\n",
    "datadir = r\"../csv_files/cleandata.csv\"\n",
    "# Load in the data\n",
    "data = pd.read_csv(datadir, index_col = 0)# Use index column to use the index on the data"
   ]
  },
  {
   "cell_type": "code",
   "execution_count": null,
   "id": "610977b5",
   "metadata": {},
   "outputs": [],
   "source": [
    "# Take a look at the data\n",
    "data.head()"
   ]
  },
  {
   "cell_type": "markdown",
   "id": "6c8b5474",
   "metadata": {},
   "source": [
    "I'm going to convert the 4 columns down to 2. I'll do this by combining `user_id`, `playlistname`, then `artistname`, and `trackname`. This is to get the unique playlists and songs, because there can be many songs and playlists with the exact same name."
   ]
  },
  {
   "cell_type": "code",
   "execution_count": null,
   "id": "b22a044b",
   "metadata": {},
   "outputs": [],
   "source": [
    "# Making a new column for the song artist combination\n",
    "new_col = []\n",
    "# Loop through each item in data frame only getting the trackname and artistname\n",
    "for item in data[[\"trackname\",\"artistname\"]].values:\n",
    "    #print(item[0], item[1])\n",
    "    new_col.append(str(item[0]) + \" by \" + str(item[1]))"
   ]
  },
  {
   "cell_type": "code",
   "execution_count": null,
   "id": "3aeac494",
   "metadata": {},
   "outputs": [],
   "source": [
    "# Adding the new column to the data set\n",
    "data[\"song_artist\"] = new_col"
   ]
  },
  {
   "cell_type": "code",
   "execution_count": null,
   "id": "0b672e98",
   "metadata": {},
   "outputs": [],
   "source": [
    "# Drop the old columns\n",
    "data.drop(columns = [\"artistname\",\"trackname\"], inplace = True)"
   ]
  },
  {
   "cell_type": "code",
   "execution_count": null,
   "id": "6fa6fec9",
   "metadata": {},
   "outputs": [],
   "source": [
    "# See if it looks right\n",
    "data.head()"
   ]
  },
  {
   "cell_type": "code",
   "execution_count": null,
   "id": "07f6a8e4",
   "metadata": {},
   "outputs": [],
   "source": [
    "# Making a new column for the playlist user combinations\n",
    "new_col = []\n",
    "# Loop through each item in the data frame\n",
    "for item in data[[\"playlistname\",\"user_id\"]].values:\n",
    "    #print(item[0], item[1])\n",
    "    new_col.append(str(item[0]) + \" by \" + str(item[1]))"
   ]
  },
  {
   "cell_type": "code",
   "execution_count": null,
   "id": "57224710",
   "metadata": {},
   "outputs": [],
   "source": [
    "# Add the new column to the data frame\n",
    "data[\"playlist_user\"] = new_col"
   ]
  },
  {
   "cell_type": "code",
   "execution_count": null,
   "id": "80e37ffe",
   "metadata": {},
   "outputs": [],
   "source": [
    "# Drop the old columns\n",
    "data.drop(columns = [\"playlistname\",\"user_id\"], inplace = True)"
   ]
  },
  {
   "cell_type": "code",
   "execution_count": null,
   "id": "c0c85e9e",
   "metadata": {},
   "outputs": [],
   "source": [
    "# Take a look at the new data frame\n",
    "data.head()"
   ]
  },
  {
   "cell_type": "markdown",
   "id": "1411f5ed",
   "metadata": {},
   "source": [
    "Now that I've got the columns sorted out I will be selecting songs that appear 10 or more times in the data."
   ]
  },
  {
   "cell_type": "code",
   "execution_count": null,
   "id": "dfb86ed7",
   "metadata": {},
   "outputs": [],
   "source": [
    "# This making a list of songs that appear more then 10 times\n",
    "songs10 = list(data[\"song_artist\"].value_counts()[data[\"song_artist\"].value_counts().values >= 10].index)"
   ]
  },
  {
   "cell_type": "code",
   "execution_count": null,
   "id": "0ba4014d",
   "metadata": {},
   "outputs": [],
   "source": [
    "# Creating a selector where songs appear more than 10 times\n",
    "selector = []\n",
    "# Looping through each item in the song_artist column\n",
    "for item in data[\"song_artist\"].values:\n",
    "    # If the item appeared more then 10 times\n",
    "    if item in songs10:\n",
    "        selector.append(True)\n",
    "    # Else if the item appeared less than 10 times\n",
    "    else:\n",
    "        selector.append(False)"
   ]
  },
  {
   "cell_type": "code",
   "execution_count": null,
   "id": "c60262f3",
   "metadata": {
    "scrolled": true
   },
   "outputs": [],
   "source": [
    "# Does the selector look right?\n",
    "selector"
   ]
  },
  {
   "cell_type": "code",
   "execution_count": null,
   "id": "1823c9f3",
   "metadata": {},
   "outputs": [],
   "source": [
    "# Filter down to the songs that appear 10 or more times\n",
    "data = data[selector]"
   ]
  },
  {
   "cell_type": "code",
   "execution_count": null,
   "id": "3590d778",
   "metadata": {},
   "outputs": [],
   "source": [
    "# How many unique playlists?\n",
    "data[\"playlist_user\"].unique().shape"
   ]
  },
  {
   "cell_type": "code",
   "execution_count": null,
   "id": "e499ca45",
   "metadata": {},
   "outputs": [],
   "source": [
    "# How may unique songs?\n",
    "data[\"song_artist\"].unique().shape"
   ]
  },
  {
   "cell_type": "markdown",
   "id": "5804e775",
   "metadata": {},
   "source": [
    "After reducing the size of the data by only using songs that appear 10 or more times it's time to make a association rules table."
   ]
  },
  {
   "cell_type": "code",
   "execution_count": null,
   "id": "b5041f00",
   "metadata": {},
   "outputs": [],
   "source": [
    "# Get the playlist_users and get a list of the songs in the playlist\n",
    "plgrouped = data.groupby(\"playlist_user\")[\"song_artist\"].apply(list)"
   ]
  },
  {
   "cell_type": "code",
   "execution_count": null,
   "id": "8c0121ed",
   "metadata": {},
   "outputs": [],
   "source": [
    "# Take a look at the data to see if it makes sense\n",
    "plgrouped.head()"
   ]
  },
  {
   "cell_type": "code",
   "execution_count": null,
   "id": "aae80c4d",
   "metadata": {},
   "outputs": [],
   "source": [
    "# Instatiate the transaction encooder\n",
    "te = TransactionEncoder()\n",
    "\n",
    "# Fit the encoder to the grouped data\n",
    "onehot = te.fit_transform(plgrouped)\n",
    "\n",
    "# Make the fitted encoder into a data frame\n",
    "onehot_df = pd.DataFrame(onehot, columns=te.columns_)\n",
    "\n",
    "# Take a look at the encoded data\n",
    "onehot_df.head()"
   ]
  },
  {
   "cell_type": "code",
   "execution_count": null,
   "id": "c5a45f01",
   "metadata": {},
   "outputs": [],
   "source": [
    "x = apriori(onehot_df, \n",
    "            min_support=0.0001, \n",
    "            use_colnames=True, \n",
    "            max_len = 2, \n",
    "            low_memory = True)\n",
    "\n",
    "# Create the associaton rules table\n",
    "assorules = association_rules(x, metric=\"lift\", min_threshold=1.0)"
   ]
  },
  {
   "cell_type": "code",
   "execution_count": null,
   "id": "c7eac5cc",
   "metadata": {},
   "outputs": [],
   "source": [
    "# Take a look at the association rules table I just made\n",
    "assorules.head()"
   ]
  },
  {
   "cell_type": "code",
   "execution_count": null,
   "id": "a967faf4",
   "metadata": {},
   "outputs": [],
   "source": [
    "# How many rows of data?\n",
    "assorules.shape"
   ]
  },
  {
   "cell_type": "code",
   "execution_count": null,
   "id": "24be4ff1",
   "metadata": {},
   "outputs": [],
   "source": [
    "# Create a string of the alphabet with uppercase and numbers\n",
    "alpha = \"abcdefghijklmnopqrstuvwxyz\"\n",
    "\n",
    "# Adding the alphabet in uppercase, a space, and numbers\n",
    "alpha += alpha.upper() + \" \" + \"1234567890\"\n",
    "\n",
    "# Seeing if the output looks right\n",
    "alpha"
   ]
  },
  {
   "cell_type": "code",
   "execution_count": null,
   "id": "e23a5505",
   "metadata": {},
   "outputs": [],
   "source": [
    "# This function takes in a frozen list and turns it into a string of alphanumeric characters\n",
    "def remove_punctuation(string):\n",
    "    # This is getting the string out of the frozen list by splitting on '\n",
    "    string = str(string).split(r\"'\")[1]\n",
    "    \n",
    "    # Creating an empty list to return\n",
    "    new = \"\"\n",
    "    \n",
    "    # Loop through each character in string\n",
    "    for item in string:\n",
    "        \n",
    "        # If the item is a alphanumeric character\n",
    "        if item in alpha:\n",
    "            \n",
    "            # Append it to the string \n",
    "            new += item\n",
    "    \n",
    "    # Return the string with only the alphanumeric characters of string\n",
    "    return new"
   ]
  },
  {
   "cell_type": "code",
   "execution_count": null,
   "id": "a85530de",
   "metadata": {},
   "outputs": [],
   "source": [
    "# Make the antecedents row strings insted of frozen lists\n",
    "assorules[\"antecedents\"] = assorules[\"antecedents\"].apply(remove_punctuation)"
   ]
  },
  {
   "cell_type": "code",
   "execution_count": null,
   "id": "fe0e1217",
   "metadata": {},
   "outputs": [],
   "source": [
    "# Use regular expression to get the song for a recommendation \n",
    "#selector = assorules[\"antecedents\"].str.match(\"^One More Time.*$\")"
   ]
  },
  {
   "cell_type": "code",
   "execution_count": null,
   "id": "fb87617e",
   "metadata": {},
   "outputs": [],
   "source": [
    "# Create a selector  for this song (Get recommendations for this song)\n",
    "selector = (assorules[\"antecedents\"] == \"Magic by Coldplay\")"
   ]
  },
  {
   "cell_type": "code",
   "execution_count": null,
   "id": "545a8a9a",
   "metadata": {},
   "outputs": [],
   "source": [
    "# See what the top 10 recommendations are\n",
    "assorules[selector].sort_values(by = \"support\", ascending = False)[0:10]"
   ]
  },
  {
   "cell_type": "code",
   "execution_count": null,
   "id": "90eacbc7",
   "metadata": {},
   "outputs": [],
   "source": [
    "# Make a recommendation\n",
    "randnum = np.random.randint(0,10)\n",
    "assorules[selector].sort_values(by = \"support\", ascending = False)[\"consequents\"].values[randnum]"
   ]
  },
  {
   "cell_type": "code",
   "execution_count": null,
   "id": "e370486d",
   "metadata": {},
   "outputs": [],
   "source": []
  }
 ],
 "metadata": {
  "kernelspec": {
   "display_name": "Python 3 (ipykernel)",
   "language": "python",
   "name": "python3"
  },
  "language_info": {
   "codemirror_mode": {
    "name": "ipython",
    "version": 3
   },
   "file_extension": ".py",
   "mimetype": "text/x-python",
   "name": "python",
   "nbconvert_exporter": "python",
   "pygments_lexer": "ipython3",
   "version": "3.9.13"
  }
 },
 "nbformat": 4,
 "nbformat_minor": 5
}
